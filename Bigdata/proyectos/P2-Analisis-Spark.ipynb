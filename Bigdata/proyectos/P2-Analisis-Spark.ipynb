{
 "cells": [
  {
   "cell_type": "code",
   "execution_count": 112,
   "id": "bc77f9dd-4204-4d49-bbe3-17482ae62dd1",
   "metadata": {},
   "outputs": [],
   "source": [
    "import findspark\n",
    "findspark.init()\n",
    "\n",
    "from pyspark.sql import SparkSession\n",
    "spark = SparkSession.builder.master(\"local\").appName(\"ventas\").getOrCreate()"
   ]
  },
  {
   "cell_type": "code",
   "execution_count": 114,
   "id": "9acc2dda-0ed0-4d5d-83e3-545d63cc42b8",
   "metadata": {},
   "outputs": [],
   "source": [
    "import matplotlib.pyplot as plt"
   ]
  },
  {
   "cell_type": "code",
   "execution_count": 116,
   "id": "50f341e7-f86c-4f53-98e8-b8eaa4ef8b20",
   "metadata": {},
   "outputs": [],
   "source": [
    "import pandas as pd"
   ]
  },
  {
   "cell_type": "code",
   "execution_count": 118,
   "id": "2ad525ef-ebe4-4be0-9fc6-b0bedab11dd8",
   "metadata": {},
   "outputs": [],
   "source": [
    "df = spark.read.csv(\"ventas_enero_2019.csv\",sep=';', header=True, inferSchema=True)"
   ]
  },
  {
   "cell_type": "code",
   "execution_count": 120,
   "id": "0d2af077-b4ca-42eb-8774-0506a1ae39ad",
   "metadata": {},
   "outputs": [
    {
     "name": "stdout",
     "output_type": "stream",
     "text": [
      "+------+--------------------+--------+-------+--------------+--------------------+\n",
      "|    ID|           Productos|cantidad| precio|         fecha|           direccion|\n",
      "+------+--------------------+--------+-------+--------------+--------------------+\n",
      "|141234|              iPhone|       1| 700,00|01/22/19 21:25|944 Walnut St, Bo...|\n",
      "|141235|Lightning Chargin...|       1|  14.95|01/28/19 14:15|185 Maple St, Por...|\n",
      "|141236|    Wired Headphones|       2|  11.99|01/17/19 13:33|538 Adams St, San...|\n",
      "|141237|    27in FHD Monitor|       1| 149.99|     1/05/2019|738 10th St, Los ...|\n",
      "|141238|    Wired Headphones|       1|  11.99|01/25/19 11:59|387 10th St, Aust...|\n",
      "|141239|AAA Batteries (4-...|       1|   2.99|01/29/19 20:22|775 Willow St, Sa...|\n",
      "|141240|27in 4K Gaming Mo...|       1| 389.99|01/26/19 12:16|979 Park St, Los ...|\n",
      "|141241|USB-C Charging Cable|       1|  11.95|     1/05/2019|181 6th St, San F...|\n",
      "|141242|Bose SoundSport H...|       1|  99.99|     1/01/2019|867 Willow St, Lo...|\n",
      "|141243|Apple Airpods Hea...|       1| 150,00|01/22/19 21:20|657 Johnson St, S...|\n",
      "|141244|Apple Airpods Hea...|       1| 150,00|     1/07/2019|492 Walnut St, Sa...|\n",
      "|141245|  Macbook Pro Laptop|       1|1700,00|01/31/19 10:12|322 6th St, San F...|\n",
      "|141246|AAA Batteries (4-...|       3|   2.99|     1/09/2019|618 7th St, Los A...|\n",
      "|141247|    27in FHD Monitor|       1| 149.99|01/25/19 19:19|512 Wilson St, Sa...|\n",
      "|141248|       Flatscreen TV|       1| 300,00|     1/03/2019|363 Spruce St, Au...|\n",
      "|141249|    27in FHD Monitor|       1| 149.99|     1/05/2019|440 Cedar St, Por...|\n",
      "|141250|     Vareebadd Phone|       1| 400,00|     1/10/2019|471 Center St, Lo...|\n",
      "|141251|Apple Airpods Hea...|       1| 150,00|01/24/19 08:13|414 Walnut St, Bo...|\n",
      "|141252|USB-C Charging Cable|       1|  11.95|01/30/19 09:28|220 9th St, Los A...|\n",
      "|141253|AA Batteries (4-p...|       1|   3.84|01/17/19 00:09|385 11th St, Atla...|\n",
      "+------+--------------------+--------+-------+--------------+--------------------+\n",
      "only showing top 20 rows\n",
      "\n"
     ]
    }
   ],
   "source": [
    "df.show()"
   ]
  },
  {
   "cell_type": "code",
   "execution_count": 122,
   "id": "bd443d63-2a02-4369-864a-8b5df0e4f2aa",
   "metadata": {
    "scrolled": true
   },
   "outputs": [
    {
     "name": "stdout",
     "output_type": "stream",
     "text": [
      "root\n",
      " |-- ID: string (nullable = true)\n",
      " |-- Productos: string (nullable = true)\n",
      " |-- cantidad: string (nullable = true)\n",
      " |-- precio: string (nullable = true)\n",
      " |-- fecha: string (nullable = true)\n",
      " |-- direccion: string (nullable = true)\n",
      "\n"
     ]
    }
   ],
   "source": [
    "df.printSchema()"
   ]
  },
  {
   "cell_type": "code",
   "execution_count": 124,
   "id": "9ecc7d78-c981-4cbd-9919-0c711a6034fc",
   "metadata": {},
   "outputs": [],
   "source": [
    "ventas_filtradas_df = df.filter(df.cantidad > 0)"
   ]
  },
  {
   "cell_type": "code",
   "execution_count": 126,
   "id": "cfd45497-4287-46cd-9f3a-323417bb8833",
   "metadata": {},
   "outputs": [],
   "source": [
    "ventas_agrupadas_df = ventas_filtradas_df.groupBy(\"productos\").agg({\"cantidad\": \"sum\", \"precio\": \"sum\"})"
   ]
  },
  {
   "cell_type": "code",
   "execution_count": 130,
   "id": "d4f327a3-790a-4535-a8d9-f47eb97bb119",
   "metadata": {},
   "outputs": [
    {
     "name": "stdout",
     "output_type": "stream",
     "text": [
      "+--------------------+------------------+-------------+\n",
      "|           productos|       sum(precio)|sum(cantidad)|\n",
      "+--------------------+------------------+-------------+\n",
      "|    Wired Headphones| 12049.94999999982|       1081.0|\n",
      "|  Macbook Pro Laptop|              NULL|        235.0|\n",
      "|Apple Airpods Hea...|              NULL|        814.0|\n",
      "|              iPhone|              NULL|        379.0|\n",
      "|Lightning Chargin...|15966.600000000308|       1151.0|\n",
      "|Bose SoundSport H...| 65593.43999999957|        659.0|\n",
      "|USB-C Charging Cable|13993.450000000266|       1284.0|\n",
      "|AAA Batteries (4-...| 3235.179999999919|       1596.0|\n",
      "|        20in Monitor|23427.870000000075|        215.0|\n",
      "|    27in FHD Monitor|62695.819999999745|        419.0|\n",
      "|     Vareebadd Phone|              NULL|        125.0|\n",
      "|34in Ultrawide Mo...|118936.87000000062|        314.0|\n",
      "|            LG Dryer|           23400.0|         39.0|\n",
      "|AA Batteries (4-p...|3989.7600000000543|       1425.0|\n",
      "|        Google Phone|              NULL|        318.0|\n",
      "|       Flatscreen TV|              NULL|        243.0|\n",
      "|  LG Washing Machine|           25200.0|         42.0|\n",
      "|27in 4K Gaming Mo...|121676.88000000064|        312.0|\n",
      "|     ThinkPad Laptop| 215997.8399999995|        217.0|\n",
      "+--------------------+------------------+-------------+\n",
      "\n"
     ]
    }
   ],
   "source": [
    "ventas_agrupadas_df.show()"
   ]
  },
  {
   "cell_type": "code",
   "execution_count": 132,
   "id": "cc67c731-fda5-4e62-a9f9-cf48a4729bd5",
   "metadata": {},
   "outputs": [],
   "source": [
    "tendencia_ventas_df = ventas_agrupadas_df.orderBy(\"sum(cantidad)\", ascending=False)"
   ]
  },
  {
   "cell_type": "code",
   "execution_count": 134,
   "id": "af86e61a-ecb2-4166-a5a5-1aa62d49bb37",
   "metadata": {},
   "outputs": [],
   "source": [
    "tendencia_ventas_df=tendencia_ventas_df.toPandas()"
   ]
  },
  {
   "cell_type": "code",
   "execution_count": 136,
   "id": "f08ed3b2-4797-404b-a6e6-50c8744c1d7f",
   "metadata": {},
   "outputs": [
    {
     "data": {
      "image/png": "[encoded data removed]",
      "text/plain": [
       "<Figure size 640x480 with 1 Axes>"
      ]
     },
     "metadata": {},
     "output_type": "display_data"
    }
   ],
   "source": [
    "tendencia_ventas_df.plot(kind=\"bar\")\n",
    "\n",
    "plt.show()"
   ]
  },
  {
   "cell_type": "code",
   "execution_count": 138,
   "id": "0b45d969-00b4-4e38-8d5e-37576a5f94be",
   "metadata": {},
   "outputs": [],
   "source": [
    "spark.stop()"
   ]
  },
  {
   "cell_type": "code",
   "execution_count": null,
   "id": "991c4050-e464-4de7-8100-3d80f68c1a5f",
   "metadata": {},
   "outputs": [],
   "source": []
  },
  {
   "cell_type": "code",
   "execution_count": null,
   "id": "047beb4a-6293-40ef-937c-a017f6c82c12",
   "metadata": {},
   "outputs": [],
   "source": []
  }
 ],
 "metadata": {
  "kernelspec": {
   "display_name": "Python 3 (ipykernel)",
   "language": "python",
   "name": "python3"
  },
  "language_info": {
   "codemirror_mode": {
    "name": "ipython",
    "version": 3
   },
   "file_extension": ".py",
   "mimetype": "text/x-python",
   "name": "python",
   "nbconvert_exporter": "python",
   "pygments_lexer": "ipython3",
   "version": "3.12.4"
  }
 },
 "nbformat": 4,
 "nbformat_minor": 5
}
